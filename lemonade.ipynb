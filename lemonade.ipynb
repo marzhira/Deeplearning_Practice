{
  "nbformat": 4,
  "nbformat_minor": 0,
  "metadata": {
    "colab": {
      "name": "lemonade",
      "provenance": [],
      "collapsed_sections": [],
      "authorship_tag": "ABX9TyOE5p9ujgL3anjIqV7JMWfq",
      "include_colab_link": true
    },
    "kernelspec": {
      "name": "python3",
      "display_name": "Python 3"
    },
    "language_info": {
      "name": "python"
    }
  },
  "cells": [
    {
      "cell_type": "markdown",
      "metadata": {
        "id": "view-in-github",
        "colab_type": "text"
      },
      "source": [
        "<a href=\"https://colab.research.google.com/github/marzhira/Deeplearning_Practice/blob/main/lemonade.ipynb\" target=\"_parent\"><img src=\"https://colab.research.google.com/assets/colab-badge.svg\" alt=\"Open In Colab\"/></a>"
      ]
    },
    {
      "cell_type": "code",
      "metadata": {
        "id": "GgzPoaj1Wl7T"
      },
      "source": [
        "import pandas as pd\n",
        "import tensorflow as tf"
      ],
      "execution_count": null,
      "outputs": []
    },
    {
      "cell_type": "code",
      "metadata": {
        "colab": {
          "base_uri": "https://localhost:8080/"
        },
        "id": "-hwqt1dLWp2y",
        "outputId": "ab75d68f-7260-4659-d988-8619148b8a97"
      },
      "source": [
        "lemonade = pd.read_csv('https://raw.githubusercontent.com/blackdew/tensorflow1/master/csv/lemonade.csv')\n",
        "lemonade.columns"
      ],
      "execution_count": null,
      "outputs": [
        {
          "output_type": "execute_result",
          "data": {
            "text/plain": [
              "Index(['온도', '판매량'], dtype='object')"
            ]
          },
          "metadata": {
            "tags": []
          },
          "execution_count": 14
        }
      ]
    },
    {
      "cell_type": "code",
      "metadata": {
        "colab": {
          "base_uri": "https://localhost:8080/",
          "height": 225
        },
        "id": "xdBS2GtcY6v9",
        "outputId": "208f9876-10b4-48e6-f1c0-4a6092b38359"
      },
      "source": [
        "lemonade_x = lemonade[['온도']]\n",
        "lemonade_y = lemonade[['판매량']]\n",
        "lemonade_y"
      ],
      "execution_count": null,
      "outputs": [
        {
          "output_type": "execute_result",
          "data": {
            "text/html": [
              "<div>\n",
              "<style scoped>\n",
              "    .dataframe tbody tr th:only-of-type {\n",
              "        vertical-align: middle;\n",
              "    }\n",
              "\n",
              "    .dataframe tbody tr th {\n",
              "        vertical-align: top;\n",
              "    }\n",
              "\n",
              "    .dataframe thead th {\n",
              "        text-align: right;\n",
              "    }\n",
              "</style>\n",
              "<table border=\"1\" class=\"dataframe\">\n",
              "  <thead>\n",
              "    <tr style=\"text-align: right;\">\n",
              "      <th></th>\n",
              "      <th>판매량</th>\n",
              "    </tr>\n",
              "  </thead>\n",
              "  <tbody>\n",
              "    <tr>\n",
              "      <th>0</th>\n",
              "      <td>40</td>\n",
              "    </tr>\n",
              "    <tr>\n",
              "      <th>1</th>\n",
              "      <td>42</td>\n",
              "    </tr>\n",
              "    <tr>\n",
              "      <th>2</th>\n",
              "      <td>44</td>\n",
              "    </tr>\n",
              "    <tr>\n",
              "      <th>3</th>\n",
              "      <td>46</td>\n",
              "    </tr>\n",
              "    <tr>\n",
              "      <th>4</th>\n",
              "      <td>48</td>\n",
              "    </tr>\n",
              "    <tr>\n",
              "      <th>5</th>\n",
              "      <td>50</td>\n",
              "    </tr>\n",
              "  </tbody>\n",
              "</table>\n",
              "</div>"
            ],
            "text/plain": [
              "   판매량\n",
              "0   40\n",
              "1   42\n",
              "2   44\n",
              "3   46\n",
              "4   48\n",
              "5   50"
            ]
          },
          "metadata": {
            "tags": []
          },
          "execution_count": 21
        }
      ]
    },
    {
      "cell_type": "code",
      "metadata": {
        "id": "Mzl5_vl2h6UL"
      },
      "source": [
        "x = tf.keras.layers.Input(shape= [1])\n",
        "y = tf.keras.layers.Dense(1)(x)\n",
        "model = tf.keras.models.Model(x, y)\n",
        "model.compile(loss='MSE')"
      ],
      "execution_count": null,
      "outputs": []
    },
    {
      "cell_type": "code",
      "metadata": {
        "colab": {
          "base_uri": "https://localhost:8080/"
        },
        "id": "vQWhfXzQismI",
        "outputId": "b2bbc92e-74f2-432e-83e2-9ca5d83f1e7d"
      },
      "source": [
        "model.fit(lemonade_x, lemonade_y, epochs=10)"
      ],
      "execution_count": null,
      "outputs": [
        {
          "output_type": "stream",
          "text": [
            "Epoch 1/10\n",
            "1/1 [==============================] - 0s 4ms/step - loss: 1.4729e-04\n",
            "Epoch 2/10\n",
            "1/1 [==============================] - 0s 11ms/step - loss: 1.4726e-04\n",
            "Epoch 3/10\n",
            "1/1 [==============================] - 0s 5ms/step - loss: 1.4719e-04\n",
            "Epoch 4/10\n",
            "1/1 [==============================] - 0s 4ms/step - loss: 1.4721e-04\n",
            "Epoch 5/10\n",
            "1/1 [==============================] - 0s 5ms/step - loss: 1.4723e-04\n",
            "Epoch 6/10\n",
            "1/1 [==============================] - 0s 5ms/step - loss: 1.4727e-04\n",
            "Epoch 7/10\n",
            "1/1 [==============================] - 0s 4ms/step - loss: 1.4733e-04\n",
            "Epoch 8/10\n",
            "1/1 [==============================] - 0s 6ms/step - loss: 1.4733e-04\n",
            "Epoch 9/10\n",
            "1/1 [==============================] - 0s 7ms/step - loss: 1.4735e-04\n",
            "Epoch 10/10\n",
            "1/1 [==============================] - 0s 8ms/step - loss: 1.4732e-04\n"
          ],
          "name": "stdout"
        },
        {
          "output_type": "execute_result",
          "data": {
            "text/plain": [
              "<tensorflow.python.keras.callbacks.History at 0x7f2febd3bb50>"
            ]
          },
          "metadata": {
            "tags": []
          },
          "execution_count": 31
        }
      ]
    },
    {
      "cell_type": "code",
      "metadata": {
        "colab": {
          "base_uri": "https://localhost:8080/"
        },
        "id": "8AwBc4G7jlla",
        "outputId": "e83e8578-f585-495a-83fa-8a643ca6fd9e"
      },
      "source": [
        "model.predict(lemonade_x)"
      ],
      "execution_count": null,
      "outputs": [
        {
          "output_type": "execute_result",
          "data": {
            "text/plain": [
              "array([[39.993954],\n",
              "       [41.991756],\n",
              "       [43.989555],\n",
              "       [45.98736 ],\n",
              "       [47.98516 ],\n",
              "       [49.98296 ]], dtype=float32)"
            ]
          },
          "metadata": {
            "tags": []
          },
          "execution_count": 32
        }
      ]
    },
    {
      "cell_type": "code",
      "metadata": {
        "colab": {
          "base_uri": "https://localhost:8080/"
        },
        "id": "gLlCe98AjyCo",
        "outputId": "cd859830-4368-4250-9c8c-f1becf876b84"
      },
      "source": [
        "model.predict([[15]])"
      ],
      "execution_count": null,
      "outputs": [
        {
          "output_type": "execute_result",
          "data": {
            "text/plain": [
              "array([[30.00495]], dtype=float32)"
            ]
          },
          "metadata": {
            "tags": []
          },
          "execution_count": 33
        }
      ]
    }
  ]
}